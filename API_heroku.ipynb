{
  "nbformat": 4,
  "nbformat_minor": 0,
  "metadata": {
    "colab": {
      "provenance": []
    },
    "kernelspec": {
      "name": "python3",
      "display_name": "Python 3"
    },
    "language_info": {
      "name": "python"
    }
  },
  "cells": [
    {
      "cell_type": "code",
      "source": [
        "from fastapi import FastAPI\n",
        "from fastapi.middleware.cors import CORSMiddleware\n",
        "from pydantic import BaseModel\n",
        "import pickle\n",
        "import json\n",
        "import pandas as pd\n",
        "import tensorflow as tf\n",
        "from tensorflow.keras.models import Model"
      ],
      "metadata": {
        "id": "i7ke6L6ZFWO5"
      },
      "execution_count": null,
      "outputs": []
    },
    {
      "cell_type": "code",
      "source": [
        "app = FastAPI()"
      ],
      "metadata": {
        "id": "bvpqc7XjF8gc"
      },
      "execution_count": null,
      "outputs": []
    },
    {
      "cell_type": "code",
      "source": [
        "origins = [\"*\"]\n",
        "\n",
        "app.add_middleware(\n",
        "    CORSMiddleware,\n",
        "    allow_origins=origins,\n",
        "    allow_credentials=True,\n",
        "    allow_methods=[\"*\"],\n",
        "    allow_headers=[\"*\"],\n",
        ")"
      ],
      "metadata": {
        "id": "iGJCdGFBEiV_"
      },
      "execution_count": null,
      "outputs": []
    },
    {
      "cell_type": "code",
      "source": [
        "class model_input(BaseModel):\n",
        "  a1:float\n",
        "  a2:float\n",
        "  a3:float\n",
        "  a4:float\n",
        "  a5:float\n",
        "  a6:float\n",
        "  a7:float\n",
        "  a8:float\n",
        "  a9:float\n",
        "  a10:float\n",
        "  a11:float\n",
        "  a12:float\n",
        "  a13:float\n",
        "  a14:float\n",
        "  a15:float\n",
        "  a16:float\n",
        "  a17:float\n",
        "  a18:float\n",
        "  a19:float\n",
        "  a20:float\n",
        "  a21:float\n",
        "  a22:float\n",
        "  a23:float\n",
        "  a24:float\n",
        "  a25:float\n",
        "  a26:float\n",
        "  a27:float\n",
        "  a28:float\n",
        "  a29:float\n",
        "  a30:float\n",
        "  a31:float\n",
        "  a32:float\n",
        "  a33:float\n",
        "  a34:float\n",
        "  a35:float\n",
        "  a36:float\n",
        "  a37:float\n",
        "  a38:float\n",
        "  a39:float\n",
        "  a40:float\n",
        "  a41:float\n",
        "  a42:float\n",
        "  a43:float\n",
        "  a44:float\n",
        "  a45:float\n",
        "  a46:float\n",
        "  a47:float\n",
        "  a48:float\n",
        "  a49:float\n",
        "  a50:float\n",
        "  a51:float\n",
        "  a52:float\n",
        "  a53:float\n",
        "  a54:float\n",
        "  a55:float\n",
        "  a56:float\n",
        "  a57:float\n",
        "  a58:float\n",
        "  a59:float\n",
        "  a60:float\n",
        "  a61:float\n",
        "  a62:float\n",
        "  a63:float\n",
        "  a64:float\n",
        "  a65:float\n",
        "  a66:float\n",
        "  a67:float\n",
        "  a68:float\n",
        "  a69:float\n",
        "  a70:float\n",
        "  a71:float\n",
        "  a72:float\n",
        "  a73:float\n",
        "  a74:float\n",
        "  a75:float\n",
        "  a76:float\n",
        "  a77:float\n",
        "  a78:float\n",
        "  a79:float\n",
        "  a80:float\n",
        "  a81:float\n",
        "  a82:float\n",
        "  a83:float\n",
        "  a84:float\n",
        "  a85:float\n",
        "  a86:float\n",
        "  a87:float\n",
        "  a88:float\n",
        "  a89:float\n",
        "  a90:float\n",
        "  a91:float\n",
        "  a92:float\n",
        "  a93:float\n",
        "  a94:float\n",
        "  a95:float\n",
        "  a96:float\n",
        "  a97:float\n",
        "  a98:float\n",
        "  a99:float\n",
        "  a100:float\n",
        "  a101:float\n",
        "  a102:float\n",
        "  a103:float\n",
        "  a104:float\n",
        "  a105:float\n",
        "  a106:float\n",
        "  a107:float\n",
        "  a108:float\n",
        "  a109:float\n",
        "  a110:float\n",
        "  a111:float\n",
        "  a112:float\n",
        "  a113:float\n",
        "  a114:float\n",
        "  a115:float\n",
        "  a116:float\n",
        "  a117:float\n",
        "  a118:float\n",
        "  a119:float\n",
        "  a120:float\n",
        "  a121:float\n",
        "  a122:float\n",
        "  a123:float\n",
        "  a124:float\n",
        "  a125:float\n",
        "  a126:float\n",
        "  a127:float\n",
        "  a128:float\n",
        "  a129:float\n",
        "  a130:float\n",
        "  a131:float\n",
        "  a132:float\n",
        "  a133:float\n",
        "  a134:float\n",
        "  a135:float\n",
        "  a136:float\n",
        "  a137:float\n",
        "  a138:float\n",
        "  a139:float\n",
        "  a140:float"
      ],
      "metadata": {
        "id": "t7j6O_SsEiT9"
      },
      "execution_count": null,
      "outputs": []
    },
    {
      "cell_type": "code",
      "source": [
        "model=pickle.load(open('model.pkl','rb'))"
      ],
      "metadata": {
        "id": "Ki3zTCDVXzUc"
      },
      "execution_count": null,
      "outputs": []
    },
    {
      "cell_type": "code",
      "source": [
        "@app.post('/ha_prediction')\n",
        "def predicts(input_parameters:model_input):\n",
        "  input_data=input_parameters.json()\n",
        "  input_dic=json.loads(input_data)\n",
        "  Novel_datapd=pd.DataFrame.from_dict(input_dic,orient='index')\n",
        "  ND=Novel_datapd.transpose()\n",
        "  ND=(ND+6.2808752)/13.6829783\n",
        "  ND=tf.cast(ND,tf.float32)\n",
        "  reconstructions = model(ND)\n",
        "  threshold=0.027195456437766552\n",
        "  loss = tf.keras.losses.mae(reconstructions, ND)\n",
        "  return bool(tf.math.less(loss, threshold))"
      ],
      "metadata": {
        "id": "OgSTjmjJEiR0"
      },
      "execution_count": null,
      "outputs": []
    },
    {
      "cell_type": "code",
      "source": [],
      "metadata": {
        "id": "-AkCt-qrEiO_"
      },
      "execution_count": null,
      "outputs": []
    },
    {
      "cell_type": "code",
      "source": [],
      "metadata": {
        "id": "5-CTkI60EiMf"
      },
      "execution_count": null,
      "outputs": []
    },
    {
      "cell_type": "code",
      "source": [],
      "metadata": {
        "id": "hhXRWLt-EiJ8"
      },
      "execution_count": null,
      "outputs": []
    },
    {
      "cell_type": "code",
      "source": [],
      "metadata": {
        "id": "ob_KcKu6EiHg"
      },
      "execution_count": null,
      "outputs": []
    },
    {
      "cell_type": "code",
      "source": [],
      "metadata": {
        "id": "1SQjHMf8EiFM"
      },
      "execution_count": null,
      "outputs": []
    }
  ]
}
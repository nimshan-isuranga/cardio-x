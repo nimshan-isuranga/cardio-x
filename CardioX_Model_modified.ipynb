{
  "nbformat": 4,
  "nbformat_minor": 0,
  "metadata": {
    "colab": {
      "provenance": []
    },
    "kernelspec": {
      "name": "python3",
      "display_name": "Python 3"
    },
    "language_info": {
      "name": "python"
    }
  },
  "cells": [
    {
      "cell_type": "code",
      "execution_count": null,
      "metadata": {
        "id": "rPqx8ZhLcgVV"
      },
      "outputs": [],
      "source": [
        "import matplotlib.pyplot as plt\n",
        "import numpy as np\n",
        "import pandas as pd\n",
        "import tensorflow as tf\n",
        "\n",
        "from sklearn.metrics import accuracy_score, precision_score, recall_score\n",
        "from sklearn.model_selection import train_test_split\n",
        "from sklearn import preprocessing\n",
        "from tensorflow.keras import layers, losses\n",
        "from tensorflow.keras.datasets import fashion_mnist\n",
        "from tensorflow.keras.models import Model"
      ]
    },
    {
      "cell_type": "code",
      "execution_count": null,
      "metadata": {
        "colab": {
          "base_uri": "https://localhost:8080/",
          "height": 299
        },
        "id": "zidJIDjAcgYN",
        "outputId": "69288ae1-1c7a-4184-d8ea-8dea639e4f60"
      },
      "outputs": [
        {
          "output_type": "execute_result",
          "data": {
            "text/plain": [
              "   -0.11252183  -2.8272038  -3.7738969  -4.3497511  -4.376041  -3.4749863  \\\n",
              "0    -1.100878   -3.996840   -4.285843   -4.506579  -4.022377   -3.234368   \n",
              "1    -0.567088   -2.593450   -3.874230   -4.584095  -4.187449   -3.151462   \n",
              "2     0.490473   -1.914407   -3.616364   -4.318823  -4.268016   -3.881110   \n",
              "3     0.800232   -0.874252   -2.384761   -3.973292  -4.338224   -3.802422   \n",
              "4    -1.507674   -3.574550   -4.478011   -4.408275  -3.321242   -2.105171   \n",
              "\n",
              "   -2.1814082  -1.8182865  -1.2505219  -0.47749208  ...  0.79216787  \\\n",
              "0   -1.566126   -0.992258   -0.754680     0.042321  ...    0.538356   \n",
              "1   -1.742940   -1.490659   -1.183580    -0.394229  ...    0.886073   \n",
              "2   -2.993280   -1.671131   -1.333884    -0.965629  ...    0.350816   \n",
              "3   -2.534510   -1.783423   -1.594450    -0.753199  ...    1.148884   \n",
              "4   -1.481048   -1.301362   -0.498240    -0.286928  ...    1.089068   \n",
              "\n",
              "   0.93354122  0.79695779  0.57862066  0.2577399  0.22807718  0.12343082  \\\n",
              "0    0.656881    0.787490    0.724046   0.555784    0.476333    0.773820   \n",
              "1    0.531452    0.311377   -0.021919  -0.713683   -0.532197    0.321097   \n",
              "2    0.499111    0.600345    0.842069   0.952074    0.990133    1.086798   \n",
              "3    0.958434    1.059025    1.371682   1.277392    0.960304    0.971020   \n",
              "4    0.983369    1.014124    0.952629   0.749326    1.007076    1.634990   \n",
              "\n",
              "   0.92528624  0.19313742  1.0  \n",
              "0    1.119621   -1.436250  1.0  \n",
              "1    0.904227   -0.421797  1.0  \n",
              "2    1.403011   -0.383564  1.0  \n",
              "3    1.614392    1.421456  1.0  \n",
              "4    1.493365   -0.783134  1.0  \n",
              "\n",
              "[5 rows x 141 columns]"
            ],
            "text/html": [
              "\n",
              "  <div id=\"df-7b03a642-efb3-4b03-999c-706884425418\">\n",
              "    <div class=\"colab-df-container\">\n",
              "      <div>\n",
              "<style scoped>\n",
              "    .dataframe tbody tr th:only-of-type {\n",
              "        vertical-align: middle;\n",
              "    }\n",
              "\n",
              "    .dataframe tbody tr th {\n",
              "        vertical-align: top;\n",
              "    }\n",
              "\n",
              "    .dataframe thead th {\n",
              "        text-align: right;\n",
              "    }\n",
              "</style>\n",
              "<table border=\"1\" class=\"dataframe\">\n",
              "  <thead>\n",
              "    <tr style=\"text-align: right;\">\n",
              "      <th></th>\n",
              "      <th>-0.11252183</th>\n",
              "      <th>-2.8272038</th>\n",
              "      <th>-3.7738969</th>\n",
              "      <th>-4.3497511</th>\n",
              "      <th>-4.376041</th>\n",
              "      <th>-3.4749863</th>\n",
              "      <th>-2.1814082</th>\n",
              "      <th>-1.8182865</th>\n",
              "      <th>-1.2505219</th>\n",
              "      <th>-0.47749208</th>\n",
              "      <th>...</th>\n",
              "      <th>0.79216787</th>\n",
              "      <th>0.93354122</th>\n",
              "      <th>0.79695779</th>\n",
              "      <th>0.57862066</th>\n",
              "      <th>0.2577399</th>\n",
              "      <th>0.22807718</th>\n",
              "      <th>0.12343082</th>\n",
              "      <th>0.92528624</th>\n",
              "      <th>0.19313742</th>\n",
              "      <th>1.0</th>\n",
              "    </tr>\n",
              "  </thead>\n",
              "  <tbody>\n",
              "    <tr>\n",
              "      <th>0</th>\n",
              "      <td>-1.100878</td>\n",
              "      <td>-3.996840</td>\n",
              "      <td>-4.285843</td>\n",
              "      <td>-4.506579</td>\n",
              "      <td>-4.022377</td>\n",
              "      <td>-3.234368</td>\n",
              "      <td>-1.566126</td>\n",
              "      <td>-0.992258</td>\n",
              "      <td>-0.754680</td>\n",
              "      <td>0.042321</td>\n",
              "      <td>...</td>\n",
              "      <td>0.538356</td>\n",
              "      <td>0.656881</td>\n",
              "      <td>0.787490</td>\n",
              "      <td>0.724046</td>\n",
              "      <td>0.555784</td>\n",
              "      <td>0.476333</td>\n",
              "      <td>0.773820</td>\n",
              "      <td>1.119621</td>\n",
              "      <td>-1.436250</td>\n",
              "      <td>1.0</td>\n",
              "    </tr>\n",
              "    <tr>\n",
              "      <th>1</th>\n",
              "      <td>-0.567088</td>\n",
              "      <td>-2.593450</td>\n",
              "      <td>-3.874230</td>\n",
              "      <td>-4.584095</td>\n",
              "      <td>-4.187449</td>\n",
              "      <td>-3.151462</td>\n",
              "      <td>-1.742940</td>\n",
              "      <td>-1.490659</td>\n",
              "      <td>-1.183580</td>\n",
              "      <td>-0.394229</td>\n",
              "      <td>...</td>\n",
              "      <td>0.886073</td>\n",
              "      <td>0.531452</td>\n",
              "      <td>0.311377</td>\n",
              "      <td>-0.021919</td>\n",
              "      <td>-0.713683</td>\n",
              "      <td>-0.532197</td>\n",
              "      <td>0.321097</td>\n",
              "      <td>0.904227</td>\n",
              "      <td>-0.421797</td>\n",
              "      <td>1.0</td>\n",
              "    </tr>\n",
              "    <tr>\n",
              "      <th>2</th>\n",
              "      <td>0.490473</td>\n",
              "      <td>-1.914407</td>\n",
              "      <td>-3.616364</td>\n",
              "      <td>-4.318823</td>\n",
              "      <td>-4.268016</td>\n",
              "      <td>-3.881110</td>\n",
              "      <td>-2.993280</td>\n",
              "      <td>-1.671131</td>\n",
              "      <td>-1.333884</td>\n",
              "      <td>-0.965629</td>\n",
              "      <td>...</td>\n",
              "      <td>0.350816</td>\n",
              "      <td>0.499111</td>\n",
              "      <td>0.600345</td>\n",
              "      <td>0.842069</td>\n",
              "      <td>0.952074</td>\n",
              "      <td>0.990133</td>\n",
              "      <td>1.086798</td>\n",
              "      <td>1.403011</td>\n",
              "      <td>-0.383564</td>\n",
              "      <td>1.0</td>\n",
              "    </tr>\n",
              "    <tr>\n",
              "      <th>3</th>\n",
              "      <td>0.800232</td>\n",
              "      <td>-0.874252</td>\n",
              "      <td>-2.384761</td>\n",
              "      <td>-3.973292</td>\n",
              "      <td>-4.338224</td>\n",
              "      <td>-3.802422</td>\n",
              "      <td>-2.534510</td>\n",
              "      <td>-1.783423</td>\n",
              "      <td>-1.594450</td>\n",
              "      <td>-0.753199</td>\n",
              "      <td>...</td>\n",
              "      <td>1.148884</td>\n",
              "      <td>0.958434</td>\n",
              "      <td>1.059025</td>\n",
              "      <td>1.371682</td>\n",
              "      <td>1.277392</td>\n",
              "      <td>0.960304</td>\n",
              "      <td>0.971020</td>\n",
              "      <td>1.614392</td>\n",
              "      <td>1.421456</td>\n",
              "      <td>1.0</td>\n",
              "    </tr>\n",
              "    <tr>\n",
              "      <th>4</th>\n",
              "      <td>-1.507674</td>\n",
              "      <td>-3.574550</td>\n",
              "      <td>-4.478011</td>\n",
              "      <td>-4.408275</td>\n",
              "      <td>-3.321242</td>\n",
              "      <td>-2.105171</td>\n",
              "      <td>-1.481048</td>\n",
              "      <td>-1.301362</td>\n",
              "      <td>-0.498240</td>\n",
              "      <td>-0.286928</td>\n",
              "      <td>...</td>\n",
              "      <td>1.089068</td>\n",
              "      <td>0.983369</td>\n",
              "      <td>1.014124</td>\n",
              "      <td>0.952629</td>\n",
              "      <td>0.749326</td>\n",
              "      <td>1.007076</td>\n",
              "      <td>1.634990</td>\n",
              "      <td>1.493365</td>\n",
              "      <td>-0.783134</td>\n",
              "      <td>1.0</td>\n",
              "    </tr>\n",
              "  </tbody>\n",
              "</table>\n",
              "<p>5 rows × 141 columns</p>\n",
              "</div>\n",
              "      <button class=\"colab-df-convert\" onclick=\"convertToInteractive('df-7b03a642-efb3-4b03-999c-706884425418')\"\n",
              "              title=\"Convert this dataframe to an interactive table.\"\n",
              "              style=\"display:none;\">\n",
              "        \n",
              "  <svg xmlns=\"http://www.w3.org/2000/svg\" height=\"24px\"viewBox=\"0 0 24 24\"\n",
              "       width=\"24px\">\n",
              "    <path d=\"M0 0h24v24H0V0z\" fill=\"none\"/>\n",
              "    <path d=\"M18.56 5.44l.94 2.06.94-2.06 2.06-.94-2.06-.94-.94-2.06-.94 2.06-2.06.94zm-11 1L8.5 8.5l.94-2.06 2.06-.94-2.06-.94L8.5 2.5l-.94 2.06-2.06.94zm10 10l.94 2.06.94-2.06 2.06-.94-2.06-.94-.94-2.06-.94 2.06-2.06.94z\"/><path d=\"M17.41 7.96l-1.37-1.37c-.4-.4-.92-.59-1.43-.59-.52 0-1.04.2-1.43.59L10.3 9.45l-7.72 7.72c-.78.78-.78 2.05 0 2.83L4 21.41c.39.39.9.59 1.41.59.51 0 1.02-.2 1.41-.59l7.78-7.78 2.81-2.81c.8-.78.8-2.07 0-2.86zM5.41 20L4 18.59l7.72-7.72 1.47 1.35L5.41 20z\"/>\n",
              "  </svg>\n",
              "      </button>\n",
              "      \n",
              "  <style>\n",
              "    .colab-df-container {\n",
              "      display:flex;\n",
              "      flex-wrap:wrap;\n",
              "      gap: 12px;\n",
              "    }\n",
              "\n",
              "    .colab-df-convert {\n",
              "      background-color: #E8F0FE;\n",
              "      border: none;\n",
              "      border-radius: 50%;\n",
              "      cursor: pointer;\n",
              "      display: none;\n",
              "      fill: #1967D2;\n",
              "      height: 32px;\n",
              "      padding: 0 0 0 0;\n",
              "      width: 32px;\n",
              "    }\n",
              "\n",
              "    .colab-df-convert:hover {\n",
              "      background-color: #E2EBFA;\n",
              "      box-shadow: 0px 1px 2px rgba(60, 64, 67, 0.3), 0px 1px 3px 1px rgba(60, 64, 67, 0.15);\n",
              "      fill: #174EA6;\n",
              "    }\n",
              "\n",
              "    [theme=dark] .colab-df-convert {\n",
              "      background-color: #3B4455;\n",
              "      fill: #D2E3FC;\n",
              "    }\n",
              "\n",
              "    [theme=dark] .colab-df-convert:hover {\n",
              "      background-color: #434B5C;\n",
              "      box-shadow: 0px 1px 3px 1px rgba(0, 0, 0, 0.15);\n",
              "      filter: drop-shadow(0px 1px 2px rgba(0, 0, 0, 0.3));\n",
              "      fill: #FFFFFF;\n",
              "    }\n",
              "  </style>\n",
              "\n",
              "      <script>\n",
              "        const buttonEl =\n",
              "          document.querySelector('#df-7b03a642-efb3-4b03-999c-706884425418 button.colab-df-convert');\n",
              "        buttonEl.style.display =\n",
              "          google.colab.kernel.accessAllowed ? 'block' : 'none';\n",
              "\n",
              "        async function convertToInteractive(key) {\n",
              "          const element = document.querySelector('#df-7b03a642-efb3-4b03-999c-706884425418');\n",
              "          const dataTable =\n",
              "            await google.colab.kernel.invokeFunction('convertToInteractive',\n",
              "                                                     [key], {});\n",
              "          if (!dataTable) return;\n",
              "\n",
              "          const docLinkHtml = 'Like what you see? Visit the ' +\n",
              "            '<a target=\"_blank\" href=https://colab.research.google.com/notebooks/data_table.ipynb>data table notebook</a>'\n",
              "            + ' to learn more about interactive tables.';\n",
              "          element.innerHTML = '';\n",
              "          dataTable['output_type'] = 'display_data';\n",
              "          await google.colab.output.renderOutput(dataTable, element);\n",
              "          const docLink = document.createElement('div');\n",
              "          docLink.innerHTML = docLinkHtml;\n",
              "          element.appendChild(docLink);\n",
              "        }\n",
              "      </script>\n",
              "    </div>\n",
              "  </div>\n",
              "  "
            ]
          },
          "metadata": {},
          "execution_count": 2
        }
      ],
      "source": [
        "# Download the dataset\n",
        "dataframe = pd.read_csv('http://storage.googleapis.com/download.tensorflow.org/data/ecg.csv')\n",
        "raw_data = dataframe.values\n",
        "dataframe.head()\n",
        "#http://storage.googleapis.com/download.tensorflow.org/data/ecg.csv"
      ]
    },
    {
      "cell_type": "code",
      "execution_count": null,
      "metadata": {
        "id": "3zrMwuAqcgbU"
      },
      "outputs": [],
      "source": [
        "# The last element contains the labels\n",
        "labels = raw_data[:, -1]\n",
        "\n",
        "# The other data points are the electrocadriogram data\n",
        "data = raw_data[:, 0:-1]\n",
        "\n",
        "train_data, test_data, train_labels, test_labels = train_test_split(\n",
        "    data, labels, test_size=0.2, random_state=21\n",
        ")"
      ]
    },
    {
      "cell_type": "code",
      "execution_count": null,
      "metadata": {
        "id": "jD87JLkqcgeH"
      },
      "outputs": [],
      "source": [
        "min_val = tf.reduce_min(train_data)\n",
        "max_val = tf.reduce_max(train_data)\n",
        "\n",
        "train_data = (train_data - min_val) / (max_val - min_val)\n",
        "test_data = (test_data - min_val) / (max_val - min_val)\n",
        "\n",
        "train_data = tf.cast(train_data, tf.float32)\n",
        "test_data = tf.cast(test_data, tf.float32)\n",
        "\n",
        "train_labels = train_labels.astype(bool)\n",
        "test_labels = test_labels.astype(bool)\n",
        "\n",
        "normal_train_data = train_data[train_labels]\n",
        "normal_test_data = test_data[test_labels]\n",
        "\n",
        "anomalous_train_data = train_data[~train_labels]\n",
        "anomalous_test_data = test_data[~test_labels]"
      ]
    },
    {
      "cell_type": "code",
      "execution_count": null,
      "metadata": {
        "id": "YDvxAyQpcgil"
      },
      "outputs": [],
      "source": [
        "encoder_input = layers.Input(shape=(140,))\n",
        "encoder = layers.Dense(64, activation=\"relu\")(encoder_input)\n",
        "encoder = layers.Dense(32, activation=\"relu\")(encoder)\n",
        "encoder = layers.Dense(16, activation=\"relu\")(encoder)\n",
        "encoder_output = layers.Dense(8, activation=\"relu\")(encoder)"
      ]
    },
    {
      "cell_type": "code",
      "source": [
        "decoder = layers.Dense(16, activation=\"relu\")(encoder_output)\n",
        "decoder = layers.Dense(32, activation=\"relu\")(decoder)\n",
        "decoder = layers.Dense(64, activation=\"relu\")(decoder)\n",
        "decoder_output = layers.Dense(140, activation=\"sigmoid\")(decoder)"
      ],
      "metadata": {
        "id": "p4vBzQOwU9JQ"
      },
      "execution_count": null,
      "outputs": []
    },
    {
      "cell_type": "code",
      "execution_count": null,
      "metadata": {
        "id": "5zfl09lAcgk3"
      },
      "outputs": [],
      "source": [
        "autoencoder = Model(encoder_input, decoder_output)"
      ]
    },
    {
      "cell_type": "code",
      "execution_count": null,
      "metadata": {
        "id": "EzfdyUK4cgqE"
      },
      "outputs": [],
      "source": [
        "autoencoder.compile(optimizer='adam', loss='mae')"
      ]
    },
    {
      "cell_type": "code",
      "execution_count": null,
      "metadata": {
        "id": "kZyxTVrvdA6n"
      },
      "outputs": [],
      "source": [
        "history = autoencoder.fit(normal_train_data, normal_train_data, \n",
        "          epochs=100, \n",
        "          batch_size=512,\n",
        "          validation_data=(test_data, test_data),shuffle=True)"
      ]
    },
    {
      "cell_type": "code",
      "execution_count": null,
      "metadata": {
        "colab": {
          "base_uri": "https://localhost:8080/"
        },
        "id": "h597IwAbdA8-",
        "outputId": "a827a058-9eeb-40cb-ef92-a43576fdf989"
      },
      "outputs": [
        {
          "output_type": "stream",
          "name": "stdout",
          "text": [
            "74/74 [==============================] - 0s 2ms/step\n"
          ]
        }
      ],
      "source": [
        "reconstructions = autoencoder.predict(normal_train_data)\n",
        "train_loss = tf.keras.losses.mae(reconstructions, normal_train_data)\n",
        "\n",
        "threshold = np.mean(train_loss) + 2*np.std(train_loss)"
      ]
    },
    {
      "cell_type": "code",
      "execution_count": null,
      "metadata": {
        "id": "nBo_PD_hdBAL"
      },
      "outputs": [],
      "source": [
        "def predict(model, data, threshold):\n",
        "  reconstructions = model(data)\n",
        "  loss = tf.keras.losses.mae(reconstructions, data)\n",
        "  return tf.math.less(loss, threshold)"
      ]
    },
    {
      "cell_type": "code",
      "source": [
        "threshold"
      ],
      "metadata": {
        "id": "UtxjceEojM4j",
        "outputId": "4b2d5570-c41b-4060-e339-859c16abadc8",
        "colab": {
          "base_uri": "https://localhost:8080/"
        }
      },
      "execution_count": null,
      "outputs": [
        {
          "output_type": "execute_result",
          "data": {
            "text/plain": [
              "0.026452320627868176"
            ]
          },
          "metadata": {},
          "execution_count": 14
        }
      ]
    },
    {
      "cell_type": "code",
      "execution_count": null,
      "metadata": {
        "id": "hassTyqZdBCs"
      },
      "outputs": [],
      "source": [
        "Novel_data_Normal=[-1.1008778e+00, -3.9968398e+00, -4.2858426e+00, -4.5065789e+00,\n",
        "       -4.0223767e+00, -3.2343676e+00, -1.5661258e+00, -9.9225766e-01,\n",
        "       -7.5467971e-01,  4.2321173e-02,  1.4895093e-01,  1.8352707e-01,\n",
        "        2.9487608e-01,  1.9023267e-01,  2.3557500e-01,  2.5348712e-01,\n",
        "        2.2174240e-01,  5.0233259e-02,  1.7804214e-01,  1.3956318e-01,\n",
        "        4.6794433e-02,  4.3007139e-02,  1.0654432e-01,  1.2654003e-02,\n",
        "        3.9948539e-03,  4.5724179e-02, -4.5999362e-02, -7.2666959e-02,\n",
        "       -7.1077909e-02, -1.5386649e-01, -2.2725443e-01, -2.4926970e-01,\n",
        "       -2.5348935e-01, -3.3283516e-01, -2.6432996e-01, -3.4582525e-01,\n",
        "       -3.1078107e-01, -3.3415978e-01, -3.0617791e-01, -1.7456252e-01,\n",
        "       -2.0616017e-01, -2.2447967e-01, -4.8683931e-02, -1.9621159e-02,\n",
        "        9.4805186e-02,  1.1678639e-01,  1.8518592e-01,  2.3052577e-01,\n",
        "        1.3802707e-01,  2.4442554e-01,  2.7169477e-01,  2.5900331e-01,\n",
        "        2.6920166e-01,  1.2706463e-01,  2.0207339e-01,  2.5598343e-01,\n",
        "        1.5311526e-01,  2.1021583e-01,  1.9108187e-01,  1.9092702e-01,\n",
        "        2.1051006e-01,  2.0710764e-01,  2.0488835e-01,  2.0086474e-01,\n",
        "        3.4691963e-01,  3.4800190e-01,  2.5453726e-01,  3.3197465e-01,\n",
        "        3.5669030e-01,  3.4992982e-01,  4.3037963e-01,  4.6750163e-01,\n",
        "        4.8606309e-01,  4.0318840e-01,  4.7895569e-01,  3.9739177e-01,\n",
        "        4.6412003e-01,  4.5179539e-01,  3.6136121e-01,  3.7983090e-01,\n",
        "        3.4278528e-01,  3.9910656e-01,  3.8750840e-01,  2.5570346e-01,\n",
        "        2.8403408e-01,  2.8499257e-01,  2.5010809e-01,  1.7303626e-01,\n",
        "        1.4942257e-01,  1.4168500e-01,  2.2226096e-01,  1.7284705e-01,\n",
        "        1.5077932e-01,  1.7656601e-01,  2.8094204e-01,  4.8993901e-01,\n",
        "        6.6088884e-01,  8.9319330e-01,  1.0269972e+00,  1.2023937e+00,\n",
        "        1.5574096e+00,  1.8084277e+00,  2.1643459e+00,  2.0707467e+00,\n",
        "        1.9036136e+00,  1.7644552e+00,  1.5077694e+00,  1.2934277e+00,\n",
        "        8.9456215e-01,  5.7801575e-01,  2.4434305e-01, -2.8644345e-01,\n",
        "       -5.1588134e-01, -7.3270694e-01, -8.3246547e-01, -8.0331806e-01,\n",
        "       -8.3625248e-01, -7.7786456e-01, -7.7475301e-01, -7.3340394e-01,\n",
        "       -7.2138631e-01, -8.3209517e-01, -7.1198159e-01, -7.5186730e-01,\n",
        "       -7.5771960e-01, -8.5311967e-01, -7.6698841e-01, -6.8816064e-01,\n",
        "       -5.1992349e-01,  3.9406169e-02,  5.6032676e-01,  5.3835583e-01,\n",
        "        6.5688079e-01,  7.8748958e-01,  7.2404623e-01,  5.5578372e-01,\n",
        "        4.7633335e-01,  7.7381971e-01,  1.1196209e+00, -1.4362499e+00]\n",
        "        \n",
        "Novel_data_Anomal=[8.9486742e-01, -3.8221580e-03, -7.5105205e-01, -1.3965429e+00,\n",
        "       -1.7378376e+00, -2.1130203e+00, -2.2132096e+00, -2.2033471e+00,\n",
        "       -2.0241906e+00, -1.5914581e+00, -1.0499022e+00, -5.7789108e-01,\n",
        "       -3.1313740e-01, -2.0084404e-01, -1.8379899e-01,  1.6525057e-02,\n",
        "        5.0921179e-01,  7.7751147e-01,  7.5067496e-01,  7.8843003e-01,\n",
        "        7.7137524e-01,  7.3257374e-01,  6.7985885e-01,  6.2183591e-01,\n",
        "        6.0469296e-01,  5.8129958e-01,  6.5998204e-01,  6.3413413e-01,\n",
        "        6.3558912e-01,  7.6050608e-01,  7.6912011e-01,  7.3457027e-01,\n",
        "        7.2108854e-01,  7.5040232e-01,  6.2612794e-01,  5.1689273e-01,\n",
        "        5.4554218e-01,  5.0588773e-01,  5.2589320e-01,  4.9186076e-01,\n",
        "        5.2836623e-01,  6.2282844e-01,  5.8039006e-01,  5.4824181e-01,\n",
        "        5.0770483e-01,  5.1204975e-01,  4.0906504e-01,  3.1038144e-01,\n",
        "        3.6845009e-01,  3.8137005e-01,  3.3419976e-01,  1.8130539e-01,\n",
        "        2.0183031e-01,  2.9331710e-01,  2.7945872e-01,  2.9958438e-01,\n",
        "        2.1474396e-01,  1.8456487e-01,  1.3197654e-01,  5.7778811e-02,\n",
        "        1.8044803e-02, -7.1802363e-02,  5.5355480e-03,  6.6041000e-02,\n",
        "        4.2362944e-02,  5.5254630e-02, -5.1268990e-03, -5.1986345e-02,\n",
        "       -1.5207146e-02, -9.4131254e-03,  2.0942630e-02,  9.2754939e-02,\n",
        "        7.3659051e-04, -7.1986495e-02,  7.0326647e-02,  9.1355005e-02,\n",
        "        2.8342719e-02,  1.7460518e-01,  2.8679751e-01,  2.7782832e-01,\n",
        "        3.1537371e-01,  3.1602348e-01,  3.6637824e-01,  4.4613065e-01,\n",
        "        4.1105086e-01,  4.2461382e-01,  4.8312520e-01,  4.5440080e-01,\n",
        "        4.6774525e-01,  5.6968959e-01,  5.4844061e-01,  5.2878176e-01,\n",
        "        6.3875397e-01,  6.4354817e-01,  6.2231549e-01,  6.2276050e-01,\n",
        "        5.7584803e-01,  5.6640109e-01,  5.6635399e-01,  5.7809064e-01,\n",
        "        6.1300844e-01,  6.3278994e-01,  5.9456305e-01,  6.1561681e-01,\n",
        "        7.2445263e-01,  7.1230460e-01,  6.7086495e-01,  7.1278444e-01,\n",
        "        6.6167141e-01,  5.8293314e-01,  5.8568763e-01,  6.1013419e-01,\n",
        "        6.9306756e-01,  6.8844189e-01,  6.1338458e-01,  6.0209334e-01,\n",
        "        4.2122252e-01,  1.6604014e-01,  1.4347481e-01,  1.9632701e-01,\n",
        "        1.6141046e-01,  1.2753130e-01, -1.8672703e-02, -2.3865283e-01,\n",
        "       -3.7069690e-01, -5.9290109e-01, -6.3411579e-01, -4.4082747e-01,\n",
        "       -5.1807030e-01, -7.0243851e-01, -8.9974628e-01, -1.4415163e+00,\n",
        "       -1.8616119e+00, -2.3213812e+00, -2.8848769e+00, -3.5302460e+00,\n",
        "       -4.4125149e+00, -3.9033308e+00, -3.5671064e+00, -1.5363381e+00]"
      ]
    },
    {
      "cell_type": "code",
      "execution_count": null,
      "metadata": {
        "colab": {
          "base_uri": "https://localhost:8080/"
        },
        "id": "IGQtI-4idBFM",
        "outputId": "808eca5f-087f-4e2e-d0d8-1313166cf54d"
      },
      "outputs": [
        {
          "output_type": "stream",
          "name": "stdout",
          "text": [
            "[0]\n"
          ]
        }
      ],
      "source": [
        "Novel_datapd=pd.DataFrame(Novel_data_Anomal)\n",
        "ND=Novel_datapd.transpose()\n",
        "ND=(ND+6.2808752)/13.6829783\n",
        "ND=tf.cast(ND,tf.float32)\n",
        "tf.print(predict(autoencoder,ND,threshold))"
      ]
    },
    {
      "cell_type": "code",
      "source": [
        "import pickle \n",
        "pickle.dump(autoencoder,open('model.pkl','wb'))"
      ],
      "metadata": {
        "id": "Ct0XHauuLQ9k"
      },
      "execution_count": null,
      "outputs": []
    },
    {
      "cell_type": "code",
      "source": [],
      "metadata": {
        "id": "MHTYA9GoLQ0T"
      },
      "execution_count": null,
      "outputs": []
    },
    {
      "cell_type": "code",
      "source": [],
      "metadata": {
        "id": "NX3rOkU9LQrb"
      },
      "execution_count": null,
      "outputs": []
    },
    {
      "cell_type": "code",
      "source": [],
      "metadata": {
        "id": "0eHLEru2LQio"
      },
      "execution_count": null,
      "outputs": []
    }
  ]
}